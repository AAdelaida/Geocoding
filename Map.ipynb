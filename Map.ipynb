{
 "cells": [
  {
   "cell_type": "markdown",
   "id": "2bfe1173",
   "metadata": {},
   "source": [
    "##### Introduction"
   ]
  },
  {
   "cell_type": "markdown",
   "id": "e6af67b7",
   "metadata": {},
   "source": [
    "Geocoding is the process of converting a place name, address, city, state or zip code into geographic coordinates (latitude and longitude). \n",
    "\n",
    "If you have ever looked up a geographic location based on a landmark description with Geogle Maps, Bing Maps or Baidu Maps, for instance, then you have used a geocoder.\n",
    "\n",
    "In Python, geocoding can be done using libraries such as Geopy or ArcGIS API. \n",
    "\n",
    "The basic steps are:\n",
    "- Install the library\n",
    "- Create an API key (if required) and \n",
    "- Use the library's functions to convert the address into latitude and longitude coordinates. "
   ]
  },
  {
   "cell_type": "markdown",
   "id": "d550c55c",
   "metadata": {},
   "source": [
    "##### Example - Interactive Map of Museums in Mexico City"
   ]
  },
  {
   "cell_type": "markdown",
   "id": "d7cac52b",
   "metadata": {},
   "source": [
    "Here is an example of using Geopy."
   ]
  },
  {
   "cell_type": "code",
   "execution_count": null,
   "id": "cad16fa2",
   "metadata": {},
   "outputs": [],
   "source": [
    "# Set up the notebook (Import lybraries)\n",
    "from geopy.geocoders import Nominatim\n",
    "import pandas as pd\n",
    "import numpy as np\n",
    "import geopandas as gpd\n",
    "import folium\n",
    "from folium import Choropleth, Circle, Marker, FeatureGroup\n",
    "from folium.plugins import HeatMap, MarkerCluster, LocateControl\n",
    "import json\n",
    "from shapely.geometry import shape, Point\n",
    "from bs4 import BeautifulSoup"
   ]
  },
  {
   "cell_type": "markdown",
   "id": "88d4933e",
   "metadata": {},
   "source": [
    "First we create a geolocator object using the Nominatim geocoder, Nominatim refers to the geocoding software that will be used to generate locations.\n",
    "\n",
    "Then, we need only apply the name or address as a Python string. (In this case we supply \"Museo Diego Rivera Anahuacalli\").\n",
    "\n",
    "If the geocoding is successful, it returns a geopy.location.Location object with two important attributes:\n",
    "\n",
    "the \"point\" attribute contains the (latitude, longitude) location, and\n",
    "the \"address\" attribute contains the full address."
   ]
  },
  {
   "cell_type": "code",
   "execution_count": null,
   "id": "28983c60",
   "metadata": {},
   "outputs": [],
   "source": [
    "# Create a geolocator object\n",
    "geolocator = Nominatim(user_agent=\"kaggle_learn\")\n",
    "location = geolocator.geocode(\"Museo Nacional de la Cartografia\")\n",
    "\n",
    "print(location.point)\n",
    "print(location.address)"
   ]
  },
  {
   "cell_type": "code",
   "execution_count": null,
   "id": "e8c75315",
   "metadata": {},
   "outputs": [],
   "source": [
    "point = location.point\n",
    "print(\"Latitude:\", point.latitude)\n",
    "print(\"Longitude:\", point.longitude)"
   ]
  },
  {
   "cell_type": "markdown",
   "id": "c04b3fa6",
   "metadata": {},
   "source": [
    "It's often the case that we'll need to geocode many different addresses. For instance, say we want to obtain the locations of the museums in Mexico City.\n",
    "\n",
    "The data used in this project is stored in the museums_Mexico_City.csv file. This file contains for each museum: the name, image URL, website URL, as well as data about if the museum has terrace and I have visit it.\n",
    "\n",
    "We load the data in a pandas DataFrame."
   ]
  },
  {
   "cell_type": "code",
   "execution_count": null,
   "id": "7691a918",
   "metadata": {},
   "outputs": [],
   "source": [
    "# Load Data\n",
    "museums = pd.read_csv(\"DataSet/museums_Mexico_City.csv\", encoding=\"latin-1\")\n",
    "museums.head()"
   ]
  },
  {
   "cell_type": "markdown",
   "id": "15ca4d16",
   "metadata": {},
   "source": [
    "Then we define a function to geocode museum name (we use a try/except statement to account for the case that the geocoding is unsucessful), and we use a lambda function to apply the geocoder to every row in the DataFrame and adds the results (latitude and longitude) to the dataframe."
   ]
  },
  {
   "cell_type": "code",
   "execution_count": null,
   "id": "046a38d4",
   "metadata": {},
   "outputs": [],
   "source": [
    "# Define a function to geocode museum name\n",
    "def my_geocoder(row):\n",
    "    try:\n",
    "        point = geolocator.geocode(row).point\n",
    "        return pd.Series({'Latitude': point.latitude, 'Longitude': point.longitude })\n",
    "    except:\n",
    "        return None\n",
    "\n",
    "museums[['Latitude','Longitude']] = museums.apply(lambda x: my_geocoder(x['Museum']), axis=1)"
   ]
  },
  {
   "cell_type": "code",
   "execution_count": null,
   "id": "a382bce1",
   "metadata": {},
   "outputs": [],
   "source": [
    "print(\"{}% of addresses were geocoded!\".format(\n",
    "      (1 - sum(np.isnan(museums[\"Latitude\"])) / len(museums)) * 100))"
   ]
  },
  {
   "cell_type": "markdown",
   "id": "735ea623",
   "metadata": {},
   "source": [
    "Next, we visualize all of the locations that were returned by the geocoder in a map, but first we need go drop museums that were not sucessfully geocoded."
   ]
  },
  {
   "cell_type": "code",
   "execution_count": null,
   "id": "5e6c0a4d",
   "metadata": {},
   "outputs": [],
   "source": [
    "# Drop museums that were not sucessfuly geocoded\n",
    "museums = museums.loc[~np.isnan(museums[\"Latitude\"])]\n",
    "museums = gpd.GeoDataFrame(\n",
    "    museums, geometry=gpd.points_from_xy(museums.Longitude, museums.Latitude))\n",
    "museums.crs = {'init':'epsg:4326'}"
   ]
  },
  {
   "cell_type": "markdown",
   "id": "bb05c905",
   "metadata": {},
   "source": [
    "We creates a Folium map centered on Mexico City, adds markers for each museum to the map, and displays the map. \n",
    "\n",
    "To improve the readability and usability of the map, we will not show the markers of museums that are very close and instead, we will show an indicator that reflects the number of museums that overlap. We used MarkerCluster, a feature in the Folium library that allows you to group markers that are close to each other on the map into a single marker cluster.\n",
    "\n",
    "The result is an interactive map with markers for the principal museums of Mexico City and popups displaying the museum names, images, and websites."
   ]
  },
  {
   "cell_type": "code",
   "execution_count": null,
   "id": "bb1e4dda",
   "metadata": {},
   "outputs": [],
   "source": [
    "# Create a Folium map centered on Mexico City (OSM Bright)\n",
    "map = folium.Map(location=[19.360765, -99.1276600], tiles='https://tiles.stadiamaps.com/tiles/osm_bright/{z}/{x}/{y}{r}.png', attr='&copy; <a href=\"https://stadiamaps.com/\">Stadia Maps</a>, &copy; <a href=\"https://openmaptiles.org/\">OpenMapTiles</a> &copy; <a href=\"http://openstreetmap.org\">OpenStreetMap</a> contributors', zoom_start=11, max_zoom=13, control_scale=True)\n",
    "\n",
    "# Create a Marker Cluster \n",
    "mCluster_Ch = MarkerCluster(name=\"Cuauhtémoc\", options={'showCoverageOnHover': False,\n",
    "                                        'zoomToBoundsOnClick': True,\n",
    "                                        'spiderfyOnMaxZoom': False,\n",
    "                                        'disableClusteringAtZoom': 13}).add_to(map)\n",
    "\n",
    "# Add points to the map\n",
    "for idx, row in museums.iterrows():\n",
    "    # Define marker variables\n",
    "    name = row['Museum']\n",
    "    insta_post = \"../Images/\" + row[\"Image\"] + \".JPG\"\n",
    "    website = row['WebSite']\n",
    "    directions = \"\"\n",
    "    \n",
    "    # Create custom museum icon\n",
    "    museum_img = 'Images/Museum2.png'\n",
    "    custom_icon = folium.CustomIcon(museum_img, icon_size=(25, 25), popup_anchor=(0, -22))\n",
    "    \n",
    "    # Define html inside marker pop-up\n",
    "    museum_html = folium.Html(f\"\"\"<p style=\"text-align: center;\"><span style=\"font-family: Didot, serif; font-size: 21px;\">{name}</span></p>\n",
    "    <p style=\"text-align: center;\"><img src={insta_post}></img></p>\n",
    "    <p style=\"text-align: center;\"><a href={website} target=\"_blank\" title=\"Website\"><span style=\"font-family: Didot, serif; font-size: 17px;\">Web Site</span></a></p>\n",
    "    \"\"\", script=True)\n",
    "    \n",
    "    # Create pop-up with html content\n",
    "    popup = folium.Popup(museum_html, max_width=700)\n",
    "    \n",
    "    # Create marker with custom icon and pop-up.\n",
    "    custom_marker = Marker([row['Latitude'], row['Longitude']], icon=custom_icon, tooltip=name, popup=popup) \n",
    "    custom_marker.add_to(map)\n",
    "    \n",
    "    # Add marker\n",
    "    if row['TownHall'] == \"Cuauhtémoc\":\n",
    "       mCluster_Ch.add_child(custom_marker)\n",
    "    else:\n",
    "        custom_marker.add_to(map)\n",
    "   \n",
    "# Show map\n",
    "map"
   ]
  },
  {
   "cell_type": "markdown",
   "id": "657b522f",
   "metadata": {},
   "source": [
    "And finally, we create an interactive map with markers of the main museums in Mexico City and pop-up windows that show the names, images and websites of the museums, in which you can consult by town hall.\n",
    "\n",
    "LayerControl allows you to add a layer control panel to your map that enables you to turn map layers on and off. You can use this to control the visibility of your markers, polygons, and other map elements."
   ]
  },
  {
   "cell_type": "code",
   "execution_count": null,
   "id": "c35fafdd",
   "metadata": {},
   "outputs": [],
   "source": [
    "# Create a Folium map centered on Mexico City (OSM Bright)\n",
    "interactive_map = folium.Map(location=[19.360765, -99.1276600], tiles='https://tiles.stadiamaps.com/tiles/osm_bright/{z}/{x}/{y}{r}.png', attr='&copy; <a href=\"https://stadiamaps.com/\">Stadia Maps</a>, &copy; <a href=\"https://openmaptiles.org/\">OpenMapTiles</a> &copy; <a href=\"http://openstreetmap.org\">OpenStreetMap</a> contributors', zoom_start=11, max_zoom=13, control_scale=True)\n",
    "\n",
    "# Create Feature Groups by Town Hall.\n",
    "mCluster_AO = FeatureGroup(name=\"Alvaro Obregón\").add_to(interactive_map)\n",
    "mCluster_MH = FeatureGroup(name=\"Miguel Hidalgo\").add_to(interactive_map)\n",
    "mCluster_Ch = FeatureGroup(name=\"Cuauhtémoc\").add_to(interactive_map)\n",
    "mCluster_Co = FeatureGroup(name=\"Coyoacán\").add_to(interactive_map)\n",
    "mCluster_Tl = FeatureGroup(name=\"Tlalpan\").add_to(interactive_map)\n",
    "mCluster_Iz = FeatureGroup(name=\"Iztapalapa\").add_to(interactive_map)\n",
    "mCluster_GM = FeatureGroup(name=\"Gustavo A. Madero\").add_to(interactive_map)\n",
    "mCluster_Xo = FeatureGroup(name=\"Xochimilco\").add_to(interactive_map)\n",
    "mCluster_MC = FeatureGroup(name=\"Magdalena Contreras\").add_to(interactive_map)\n",
    "mCluster_Ic = FeatureGroup(name=\"Iztacalco\").add_to(interactive_map)\n",
    "mCluster_Az = FeatureGroup(name=\"Azcapotzalco\").add_to(interactive_map)\n",
    "\n",
    "\n",
    "# Add points to the map\n",
    "for idx, row in museums.iterrows():\n",
    "    # Define marker variables\n",
    "    name = row['Museum']\n",
    "    insta_post = \"Images/\" + row[\"Image\"] + \".JPG\"\n",
    "    website = row['WebSite']\n",
    "    directions = \"\"\n",
    "    \n",
    "    # Create custom museum icon\n",
    "    museum_img = 'Images/Museum2.png'\n",
    "    custom_icon = folium.CustomIcon(museum_img, icon_size=(25, 25), popup_anchor=(0, -22))\n",
    "    \n",
    "    \n",
    "    # Define html inside marker pop-up\n",
    "    museum_html = folium.Html(f\"\"\"<p style=\"text-align: center;\"><span style=\"font-family: Didot, serif; font-size: 21px;\">{name}</span></p>\n",
    "    <p style=\"text-align: center;\"><img src={insta_post}></img></p>\n",
    "    <p style=\"text-align: center;\"><a href={website} target=\"_blank\" title=\"Website\"><span style=\"font-family: Didot, serif; font-size: 17px;\">Web Site</span></a></p>\n",
    "    \"\"\", script=True)\n",
    "    \n",
    "    # Create pop-up with html content\n",
    "    popup = folium.Popup(museum_html, max_width=700)\n",
    "    \n",
    "    # Create marker with custom icon and pop-up.\n",
    "    custom_marker = Marker([row['Latitude'], row['Longitude']], icon=custom_icon, tooltip=name, popup=popup) \n",
    "    custom_marker.add_to(interactive_map)\n",
    "    \n",
    "    if row['TownHall'] == \"Alvaro Obregón\":\n",
    "        mCluster_AO.add_child(custom_marker)\n",
    "    elif row['TownHall'] == \"Miguel Hidalgo\":\n",
    "        mCluster_MH.add_child(custom_marker)\n",
    "    elif row['TownHall'] == \"Cuauhtémoc\":\n",
    "        mCluster_Ch.add_child(custom_marker)\n",
    "    elif row['TownHall'] == \"Coyoacán\":\n",
    "        mCluster_Co.add_child(custom_marker)\n",
    "    elif row['TownHall'] == \"Tlalpan\":\n",
    "        mCluster_Tl.add_child(custom_marker)\n",
    "    elif row['TownHall'] == \"Iztapalapa\":\n",
    "        mCluster_Iz.add_child(custom_marker)\n",
    "    elif row['TownHall'] == \"Gustavo A. Madero\":\n",
    "        mCluster_GM.add_child(custom_marker)\n",
    "    elif row['TownHall'] == \"Xochimilco\":\n",
    "        mCluster_Xo.add_child(custom_marker)\n",
    "    elif row['TownHall'] == \"Magdalena Contreras\":\n",
    "        mCluster_MC.add_child(custom_marker)\n",
    "    elif row['TownHall'] == \"Iztacalco\":\n",
    "        mCluster_Ic.add_child(custom_marker)\n",
    "    elif row['TownHall'] == \"Azcapotzalco\":\n",
    "        mCluster_Az.add_child(custom_marker)\n",
    "        \n",
    "\n",
    "\n",
    "folium.LayerControl().add_to(interactive_map)\n",
    "        \n",
    "interactive_map"
   ]
  },
  {
   "cell_type": "markdown",
   "id": "e15d42c2",
   "metadata": {},
   "source": [
    "We also can add a menu bar to select museums with and without terrace, using the LayerControl class. "
   ]
  },
  {
   "cell_type": "code",
   "execution_count": null,
   "id": "c8179efc",
   "metadata": {},
   "outputs": [],
   "source": [
    "# Create a Folium map centered on Mexico City (OSM Bright)\n",
    "map2 = folium.Map(location=[19.360765, -99.1276600], tiles='https://tiles.stadiamaps.com/tiles/osm_bright/{z}/{x}/{y}{r}.png', attr='&copy; <a href=\"https://stadiamaps.com/\">Stadia Maps</a>, &copy; <a href=\"https://openmaptiles.org/\">OpenMapTiles</a> &copy; <a href=\"http://openstreetmap.org\">OpenStreetMap</a> contributors', zoom_start=11, max_zoom=13, control_scale=True)\n",
    "\n",
    "# Create Feature Groups depending on Terrace property\n",
    "mCluster_CT = FeatureGroup(name=\"Con Terraza\").add_to(map2)\n",
    "mCluster_ST = FeatureGroup(name=\"Sin Terraza\").add_to(map2)\n",
    "\n",
    "\n",
    "# Add points to the map\n",
    "for idx, row in museums.iterrows():\n",
    "    # Define marker variables\n",
    "    name = row['Museum']\n",
    "    insta_post = \"Images/\" + row[\"Image\"] + \".JPG\"\n",
    "    website = row['WebSite']\n",
    "    directions = \"\"\n",
    "    \n",
    "    # Create custom museum icon\n",
    "    museum_img = 'Images/Museum2.png'\n",
    "    custom_icon = folium.CustomIcon(museum_img, icon_size=(25, 25), popup_anchor=(0, -22))\n",
    "    \n",
    "    # Define html inside marker pop-up\n",
    "    museum_html = folium.Html(f\"\"\"<p style=\"text-align: center;\"><span style=\"font-family: Didot, serif; font-size: 21px;\">{name}</span></p>\n",
    "    <p style=\"text-align: center;\"><img src={insta_post}></img></p>\n",
    "    <p style=\"text-align: center;\"><a href={website} target=\"_blank\" title=\"Website\"><span style=\"font-family: Didot, serif; font-size: 17px;\">Web Site</span></a></p>\n",
    "    \"\"\", script=True)\n",
    "    \n",
    "    # Create pop-up with html content\n",
    "    popup = folium.Popup(museum_html, max_width=700)\n",
    "    \n",
    "    # Create marker with custom icon and pop-up.\n",
    "    custom_marker = Marker([row['Latitude'], row['Longitude']], icon=custom_icon, tooltip=name, popup=popup) \n",
    "    custom_marker.add_to(map2)\n",
    "    \n",
    "    if row['Terrace'] == 0:\n",
    "        mCluster_ST.add_child(custom_marker)\n",
    "    else:\n",
    "        mCluster_CT.add_child(custom_marker)\n",
    "\n",
    "folium.LayerControl().add_to(map2)\n",
    "        \n",
    "map2"
   ]
  },
  {
   "cell_type": "markdown",
   "id": "48e7a5e2",
   "metadata": {},
   "source": [
    "We add a menu bar to select museums dependeing if I have visited them. In this case we will use un different icon depending if I have visited the museum or not."
   ]
  },
  {
   "cell_type": "code",
   "execution_count": null,
   "id": "71d7c4dc",
   "metadata": {},
   "outputs": [],
   "source": [
    "# Create a Folium map centered on Mexico City (OSM Bright)\n",
    "map3 = folium.Map(location=[19.360765, -99.1276600], tiles='https://tiles.stadiamaps.com/tiles/osm_bright/{z}/{x}/{y}{r}.png', attr='&copy; <a href=\"https://stadiamaps.com/\">Stadia Maps</a>, &copy; <a href=\"https://openmaptiles.org/\">OpenMapTiles</a> &copy; <a href=\"http://openstreetmap.org\">OpenStreetMap</a> contributors', zoom_start=11, max_zoom=13, control_scale=True)\n",
    "\n",
    "# Create Feature Groups depending on Visited property\n",
    "mCluster_V = FeatureGroup(name=\"Visited\").add_to(map3)\n",
    "mCluster_NV = FeatureGroup(name=\"Not Visited\").add_to(map3)\n",
    "\n",
    "\n",
    "# Add points to the map\n",
    "for idx, row in museums.iterrows():\n",
    "    # Define marker variables\n",
    "    name = row['Museum']\n",
    "    insta_post = \".Images/\" + row[\"Image\"] + \".JPG\"\n",
    "    website = row['WebSite']\n",
    "    directions = \"\"\n",
    "    \n",
    "    # Create custom museum icon\n",
    "    museum_img_v = 'Images/Museum_v.png'\n",
    "    #custom_icon_nv = folium.CustomIcon(museum_img, icon_size=(25, 25), popup_anchor=(0, -22))\n",
    "    museum_img_nv = 'Images/Museum_nv.png'\n",
    "    if row['Visited'] == 1:\n",
    "        custom_icon = folium.CustomIcon(museum_img_v, icon_size=(25, 25), popup_anchor=(0, -22))\n",
    "    else:\n",
    "        custom_icon = folium.CustomIcon(museum_img_nv, icon_size=(25, 25), popup_anchor=(0, -22))\n",
    "    \n",
    "    \n",
    "    # Define html inside marker pop-up\n",
    "    museum_html = folium.Html(f\"\"\"<p style=\"text-align: center;\"><span style=\"font-family: Didot, serif; font-size: 21px;\">{name}</span></p>\n",
    "    <p style=\"text-align: center;\"><img src={insta_post}></img></p>\n",
    "    <p style=\"text-align: center;\"><a href={website} target=\"_blank\" title=\"Website\"><span style=\"font-family: Didot, serif; font-size: 17px;\">Web Site</span></a></p>\n",
    "    \"\"\", script=True)\n",
    "    \n",
    "    # Create pop-up with html content\n",
    "    popup = folium.Popup(museum_html, max_width=700)\n",
    "    \n",
    "    # Create marker with custom icon and pop-up.\n",
    "    custom_marker = Marker([row['Latitude'], row['Longitude']], icon=custom_icon, tooltip=name, popup=popup) \n",
    "    custom_marker.add_to(map3)\n",
    "    \n",
    "    if row['Visited'] == 1:\n",
    "        mCluster_V.add_child(custom_marker)\n",
    "    else:\n",
    "        mCluster_NV.add_child(custom_marker)\n",
    "\n",
    "folium.LayerControl().add_to(map3)\n",
    "\n",
    "# Show map\n",
    "map3"
   ]
  },
  {
   "cell_type": "code",
   "execution_count": null,
   "id": "7222e014",
   "metadata": {},
   "outputs": [],
   "source": []
  }
 ],
 "metadata": {
  "kernelspec": {
   "display_name": "Python 3 (ipykernel)",
   "language": "python",
   "name": "python3"
  },
  "language_info": {
   "codemirror_mode": {
    "name": "ipython",
    "version": 3
   },
   "file_extension": ".py",
   "mimetype": "text/x-python",
   "name": "python",
   "nbconvert_exporter": "python",
   "pygments_lexer": "ipython3",
   "version": "3.9.13"
  }
 },
 "nbformat": 4,
 "nbformat_minor": 5
}
